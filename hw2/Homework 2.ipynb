{
 "cells": [
  {
   "cell_type": "markdown",
   "metadata": {},
   "source": [
    "# Homework 2\n",
    "## Maya Rotmensch (mer567) and Alex Pine (akp258)\n",
    "## Deep Learning 2016"
   ]
  },
  {
   "cell_type": "markdown",
   "metadata": {},
   "source": [
    "## TODO Problem 1.1\n"
   ]
  },
  {
   "cell_type": "markdown",
   "metadata": {},
   "source": [
    "## TODO Problem 1.2"
   ]
  },
  {
   "cell_type": "markdown",
   "metadata": {},
   "source": [
    "## Problem 2\n",
    "\n",
    "### Baseline model\n",
    "#### Options\n",
    "\n",
    "exp_name: no_unlabeled_vgg_baseline\n",
    "backend: nn\n",
    "learningRate: 1\n",
    "momentum: 0.9\n",
    "batchSize: 64\n",
    "epoch_step: 25\n",
    "model_save_freq: 50\n",
    "model: vgg_bn_drop\n",
    "debug_log_filename: debug.log\n",
    "no_cuda: false\n",
    "learningRateDecay: 1e-07\n",
    "weightDecay: 0.0005\n",
    "max_epoch: 300\n",
    "\n",
    "#### Results\n",
    "After 300 epochs we got:\n",
    "\n",
    "Train accuracy: 99.70 %   time: 151.85 s\n",
    "Valdiation accuracy: 64.40 %\n",
    "\n",
    "This is the accuarcy we need to beat.\n"
   ]
  },
  {
   "cell_type": "code",
   "execution_count": null,
   "metadata": {
    "collapsed": true
   },
   "outputs": [],
   "source": []
  }
 ],
 "metadata": {
  "kernelspec": {
   "display_name": "iTorch",
   "language": "lua",
   "name": "itorch"
  },
  "language_info": {
   "name": "lua",
   "version": "20100"
  }
 },
 "nbformat": 4,
 "nbformat_minor": 0
}
